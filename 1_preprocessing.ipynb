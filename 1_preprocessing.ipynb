{
 "cells": [
  {
   "cell_type": "markdown",
   "id": "7f592a97",
   "metadata": {
    "id": "dbd55073"
   },
   "source": [
    "# Preprocessing on Data"
   ]
  },
  {
   "cell_type": "markdown",
   "id": "3c0ee8dc",
   "metadata": {
    "id": "ff28bfde"
   },
   "source": [
    "### Libraries"
   ]
  },
  {
   "cell_type": "code",
   "execution_count": 3,
   "id": "d171f8a8",
   "metadata": {
    "id": "4a1c31c4"
   },
   "outputs": [],
   "source": [
    "import pandas as pd \n",
    "import numpy as np \n",
    "import matplotlib.pyplot as plt \n",
    "import seaborn as sns"
   ]
  },
  {
   "cell_type": "markdown",
   "id": "5f967579",
   "metadata": {
    "id": "76c16791"
   },
   "source": [
    "### Reading dataset"
   ]
  },
  {
   "cell_type": "code",
   "execution_count": 1,
   "id": "dcb58d50",
   "metadata": {
    "id": "b0ad0cab",
    "outputId": "256eb757-521a-4029-a774-826f840578fc"
   },
   "outputs": [
    {
     "ename": "NameError",
     "evalue": "name 'pd' is not defined",
     "output_type": "error",
     "traceback": [
      "\u001b[1;31m---------------------------------------------------------------------------\u001b[0m",
      "\u001b[1;31mNameError\u001b[0m                                 Traceback (most recent call last)",
      "\u001b[1;32m~\\AppData\\Local\\Temp/ipykernel_6708/238178276.py\u001b[0m in \u001b[0;36m<module>\u001b[1;34m\u001b[0m\n\u001b[1;32m----> 1\u001b[1;33m \u001b[0mdf\u001b[0m\u001b[1;33m=\u001b[0m\u001b[0mpd\u001b[0m\u001b[1;33m.\u001b[0m\u001b[0mread_excel\u001b[0m\u001b[1;33m(\u001b[0m\u001b[1;34m'sales.xlsx'\u001b[0m\u001b[1;33m)\u001b[0m\u001b[1;33m\u001b[0m\u001b[1;33m\u001b[0m\u001b[0m\n\u001b[0m\u001b[0;32m      2\u001b[0m \u001b[0mdf\u001b[0m\u001b[1;33m.\u001b[0m\u001b[0mhead\u001b[0m\u001b[1;33m(\u001b[0m\u001b[1;33m)\u001b[0m\u001b[1;33m\u001b[0m\u001b[1;33m\u001b[0m\u001b[0m\n",
      "\u001b[1;31mNameError\u001b[0m: name 'pd' is not defined"
     ]
    }
   ],
   "source": [
    "df=pd.read_excel('sales.xlsx')\n",
    "df.head()"
   ]
  },
  {
   "cell_type": "code",
   "execution_count": 5,
   "id": "a104e359",
   "metadata": {
    "id": "1269279d"
   },
   "outputs": [],
   "source": [
    "# remove null customer id values\n",
    "Subset=['CustomerId']\n",
    "df_no_missing_CustomerId = df.copy()\n",
    "df_no_missing_CustomerId = df.dropna(axis='index',how='all',subset=Subset)"
   ]
  },
  {
   "cell_type": "markdown",
   "id": "6dfd6345",
   "metadata": {
    "id": "a63338c3"
   },
   "source": [
    "### part 2"
   ]
  },
  {
   "cell_type": "code",
   "execution_count": 6,
   "id": "acc758e5",
   "metadata": {
    "id": "582951c6"
   },
   "outputs": [],
   "source": [
    "# keep only one row per duplicate rows\n",
    "df_no_duplicate = df_no_missing_CustomerId.copy()\n",
    "df_no_duplicate = df_no_duplicate.drop_duplicates()"
   ]
  },
  {
   "cell_type": "markdown",
   "id": "76a0b25a",
   "metadata": {
    "id": "b6450112"
   },
   "source": [
    "### part 3"
   ]
  },
  {
   "cell_type": "code",
   "execution_count": 7,
   "id": "b2d944eb",
   "metadata": {
    "id": "97e5386d"
   },
   "outputs": [],
   "source": [
    "# remove prices not bigger than zero\n",
    "df_no_missing_price = df_no_duplicate.copy()\n",
    "df_no_missing_price = df_no_missing_price.drop(df_no_missing_price[df_no_missing_price.UnitPrice<=0].index)"
   ]
  },
  {
   "cell_type": "markdown",
   "id": "a9a04d3c",
   "metadata": {
    "id": "386781c4"
   },
   "source": [
    "### Part 4"
   ]
  },
  {
   "cell_type": "code",
   "execution_count": 9,
   "id": "7ea67c94",
   "metadata": {},
   "outputs": [
    {
     "name": "stdout",
     "output_type": "stream",
     "text": [
      "<class 'pandas.core.frame.DataFrame'>\n",
      "Int64Index: 410732 entries, 0 to 525460\n",
      "Data columns (total 8 columns):\n",
      " #   Column         Non-Null Count   Dtype         \n",
      "---  ------         --------------   -----         \n",
      " 0   InvoiceNumber  410732 non-null  object        \n",
      " 1   ProductCode    410732 non-null  object        \n",
      " 2   ProductName    410732 non-null  object        \n",
      " 3   Quantity       410732 non-null  int64         \n",
      " 4   InvoiceDate    410732 non-null  datetime64[ns]\n",
      " 5   UnitPrice      410732 non-null  float64       \n",
      " 6   CustomerId     410732 non-null  object        \n",
      " 7   Country        410732 non-null  object        \n",
      "dtypes: datetime64[ns](1), float64(1), int64(1), object(5)\n",
      "memory usage: 28.2+ MB\n"
     ]
    }
   ],
   "source": [
    "df_no_missing_price.CustomerId=df_no_missing_price.CustomerId.astype(int)\n",
    "df_no_missing_price.CustomerId=df_no_missing_price.CustomerId.astype(str)\n",
    "df_no_missing_price.info()"
   ]
  },
  {
   "cell_type": "code",
   "execution_count": 10,
   "id": "bf69c9b2",
   "metadata": {
    "id": "bf2501b4",
    "outputId": "36051d24-312b-4a56-fdc7-9022c51168d4"
   },
   "outputs": [],
   "source": [
    "\n",
    "df2=df_no_missing_price[df_no_missing_price['InvoiceNumber'].str.contains('C' ,na=False)]\n",
    "df3=df2.groupby('CustomerId').InvoiceNumber.size().sort_values(ascending=False).head()\n",
    "top_cancelling_customers =['14911', '14527', '15311', '14156', '17841']"
   ]
  },
  {
   "cell_type": "markdown",
   "id": "cd269684",
   "metadata": {
    "id": "aeb7766e"
   },
   "source": [
    "### Part5"
   ]
  },
  {
   "cell_type": "code",
   "execution_count": 11,
   "id": "e4d2ac62",
   "metadata": {
    "id": "1888ca41"
   },
   "outputs": [],
   "source": [
    "# remove the cancelled orderes\n",
    "df_no_canceled_inovice = df_no_missing_price.copy()\n",
    "df_no_canceled_inovice = df_no_canceled_inovice[~df_no_canceled_inovice['InvoiceNumber'].str.contains('C' ,na=False)]"
   ]
  },
  {
   "cell_type": "markdown",
   "id": "dbde39c0",
   "metadata": {},
   "source": [
    "### Part6"
   ]
  },
  {
   "cell_type": "code",
   "execution_count": 12,
   "id": "8b21f88f",
   "metadata": {
    "id": "bd1240ef"
   },
   "outputs": [],
   "source": [
    "# save the remaining invoice ids: \n",
    "df5=df_no_canceled_inovice.InvoiceNumber.unique()\n",
    "df6=pd.Series(df5)\n",
    "df6\n",
    "remaining_invoices =df6"
   ]
  },
  {
   "cell_type": "markdown",
   "id": "505530f6",
   "metadata": {},
   "source": [
    "### Saving Dataset"
   ]
  },
  {
   "cell_type": "code",
   "execution_count": 13,
   "id": "c64c3a7b",
   "metadata": {},
   "outputs": [],
   "source": [
    "df_no_canceled_inovice.to_csv(\"preprocessed_sales.csv\", index=False)"
   ]
  }
 ],
 "metadata": {
  "colab": {
   "name": "preprocessing_answers.ipynb",
   "provenance": []
  },
  "interpreter": {
   "hash": "a1a46404003b1888471f66733c8ff43ecbbd22069e04669a0d47e7a2f84d0bb4"
  },
  "kernelspec": {
   "display_name": "Python 3 (ipykernel)",
   "language": "python",
   "name": "python3"
  },
  "language_info": {
   "codemirror_mode": {
    "name": "ipython",
    "version": 3
   },
   "file_extension": ".py",
   "mimetype": "text/x-python",
   "name": "python",
   "nbconvert_exporter": "python",
   "pygments_lexer": "ipython3",
   "version": "3.8.8"
  }
 },
 "nbformat": 4,
 "nbformat_minor": 5
}
